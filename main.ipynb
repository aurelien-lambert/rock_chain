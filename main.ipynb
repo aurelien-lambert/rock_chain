{
 "cells": [
  {
   "cell_type": "code",
   "execution_count": 46,
   "metadata": {},
   "outputs": [],
   "source": [
    "import csv\n",
    "import rock_chain\n",
    "import importlib\n",
    "importlib.reload(rock_chain)\n",
    "\n",
    "from rock_chain import *\n"
   ]
  },
  {
   "cell_type": "code",
   "execution_count": 42,
   "metadata": {},
   "outputs": [
    {
     "name": "stdout",
     "output_type": "stream",
     "text": [
      "Chain found:\n",
      "Pass Traversée tour interieur: Start = GD, End = GD\n",
      "Pass 3 Tapes et tour: Start = GD, End = GD\n",
      "Pass Enchufla: Start = GD, End = GD\n",
      "Pass Spaghetti: Start = GD, End = GD\n",
      "Pass Penché latéral: Start = GD, End = GD\n"
     ]
    }
   ],
   "source": [
    "file_name = 'passes_rock.csv'\n",
    "df = read_passes(file_name)\n",
    "graph = build_graph(df)\n",
    "\n",
    "# The chain must start with 'GD'\n",
    "initial_start = 'GD'\n",
    "\n",
    "nb_passes = 5\n",
    "infinite_loop = 'yes'\n",
    "\n",
    "found_chain = None\n",
    "# Try to build a valid chain for each pass starting with 'GD'\n",
    "for p in graph[initial_start]:\n",
    "    found_chain = search_chain([p], nb_passes, graph, infinite_loop, initial_start)\n",
    "    if found_chain is not None:\n",
    "        break\n",
    "\n",
    "if found_chain is None:\n",
    "    print(\"No chain matching the criteria was found.\")\n",
    "else:\n",
    "    print(\"Chain found:\")\n",
    "    for i, p in enumerate(found_chain, start=1):\n",
    "        print(f\"Pass {p['Name']}: Start = {p['Start']}, End = {p['End']}\")"
   ]
  },
  {
   "cell_type": "code",
   "execution_count": 47,
   "metadata": {},
   "outputs": [
    {
     "name": "stdout",
     "output_type": "stream",
     "text": [
      "Available passes starting with 'GD':\n",
      "0: Start = GD, End = GD\n",
      "1: Start = GD, End = GDGD\n",
      "2: Start = GD, End = GD\n",
      "3: Start = GD, End = GD\n",
      "4: Start = GD, End = GD\n",
      "5: Start = GD, End = DD\n",
      "6: Start = GD, End = GD\n",
      "7: Start = GD, End = DD\n",
      "8: Start = GD, End = GD\n",
      "9: Start = GD, End = GD\n",
      "10: Start = GD, End = GD\n",
      "11: Start = GD, End = GD\n",
      "12: Start = GD, End = GD\n",
      "13: Start = GD, End = GD\n",
      "14: Start = GD, End = DD\n",
      "15: Start = GD, End = DD\n",
      "16: Start = GD, End = DD\n",
      "17: Start = GD, End = DD\n",
      "18: Start = GD, End = GD\n",
      "19: Start = GD, End = GD\n",
      "Chain found:\n",
      "Pass 1: Name = 3 Tapes et genou au sol, Start = GD, End = GD\n",
      "Pass 2: Name = Duck (Épaule opposée), Start = GD, End = DD\n",
      "Pass 3: Name = Penché latéral (variante TTI), Start = DD, End = GD\n",
      "Pass 4: Name = Duck, Start = GD, End = GD\n",
      "Pass 5: Name = Penché latéral, Start = GD, End = GD\n"
     ]
    }
   ],
   "source": [
    "main()"
   ]
  },
  {
   "cell_type": "code",
   "execution_count": null,
   "metadata": {},
   "outputs": [],
   "source": []
  }
 ],
 "metadata": {
  "kernelspec": {
   "display_name": "Python 3",
   "language": "python",
   "name": "python3"
  },
  "language_info": {
   "codemirror_mode": {
    "name": "ipython",
    "version": 3
   },
   "file_extension": ".py",
   "mimetype": "text/x-python",
   "name": "python",
   "nbconvert_exporter": "python",
   "pygments_lexer": "ipython3",
   "version": "3.13.1"
  }
 },
 "nbformat": 4,
 "nbformat_minor": 2
}
